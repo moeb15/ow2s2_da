{
 "cells": [
  {
   "attachments": {},
   "cell_type": "markdown",
   "metadata": {},
   "source": [
    "### The goal of this notebook is to perform exploratory data analysis on the season 2 OW2 competitve data"
   ]
  },
  {
   "attachments": {},
   "cell_type": "markdown",
   "metadata": {},
   "source": [
    "Overwatch 2 is a a hero-based first person shooter which consists of 2 teams composed of 5 players  \n",
    "competing to complete some objective which ranges from\n",
    "* Pushing a payload from one end of the map to another before the timer ends, known as Escort\n",
    "* Capturing an objective that one team is meant to defend and pushing a payload, known as Hybrid\n",
    "* Competing for an objective, known as Control\n",
    "* Competing for a payload that either team has push further than the other within the alloted time, known as Push"
   ]
  },
  {
   "attachments": {},
   "cell_type": "markdown",
   "metadata": {},
   "source": [
    "The competitive mode of the game is mostly played under the conditions that each team will be  \n",
    "composed of 2 support heroes, 2 damage heroes, and 1 tank hero, this is known as role-lock, the  \n",
    "less played alternative game mode is known as open queue which allows for any composition mix between  \n",
    "the three available roles. The skill tiers range from Bronze, Silver, Gold, Platinum, Diamond,  \n",
    "Masters, and Grandmasters, each containing 5 divisions."
   ]
  },
  {
   "attachments": {},
   "cell_type": "markdown",
   "metadata": {},
   "source": [
    "Through analyzing the competitive data for season 2 of Overwatch 2, we seek to understand the state  \n",
    "of balance of heroes throughout the game, the reason we choose the competitive data as opposed to  \n",
    "the data from the casual gamemodes, is because we assume that players who choose to play the competitive  \n",
    "mode are more likely to display a higher level of skill at the game, and have a better understanding  \n",
    "of the game on a macro level compared to those who play casually.  \n",
    "\n",
    "Due to this we'd expect that as the ranks progress, certain choices of hero picks for each role will start  \n",
    "to differ, as players improve the pool of viable heroes will decrease, this is due to players learning  \n",
    "which heroes provide maximum value given minimum effort. What we mean by effort can be explained by several  \n",
    "different metrics, though we can't derive it directly from the given data, we can analyze this by using  \n",
    "our previous knowledge of the heroes, the key metrics are as follows:\n",
    "* Aim\n",
    "* Positioning\n",
    "* Movement\n",
    "* Gamesense  "
   ]
  },
  {
   "attachments": {},
   "cell_type": "markdown",
   "metadata": {},
   "source": [
    "The first 3 points are self-explanatory, they encompass what we'd call mechanics,  each hero  \n",
    "may have individual quirks that act as mechanics special to them, for those not familiar with competitive   \n",
    "games however the last one may not be familiar to you. Gamesense can be thought of the macro-level  \n",
    "knowledge that a player has of the game, this will affect how the player understands the flow of a match,  \n",
    "the useage of their abilities and ultimate abilities, individual interactions between heroes, pathing  \n",
    "throughout a given map, and timing of engages.\n"
   ]
  },
  {
   "attachments": {},
   "cell_type": "markdown",
   "metadata": {},
   "source": [
    "Using our knowledge of the heroes available in the second competitive season and the given  \n",
    "data, what we seek to understand is the hero balance state, which can be thought of as  \n",
    "the hierarchy of heroes based on maximizing value given the required effort, of the game."
   ]
  },
  {
   "attachments": {},
   "cell_type": "markdown",
   "metadata": {},
   "source": [
    "I want to preface this analysis by stating that I am not a high rated player or even  \n",
    "one that plays a variety of heroes in the game, I mostly just play Doomfist and hover around  \n",
    "the ranks divisions of Masters 5 to Masters 2, this most definitely will affect how I perceive  \n",
    "the game and its balance state."
   ]
  },
  {
   "attachments": {},
   "cell_type": "markdown",
   "metadata": {},
   "source": [
    "The dataset has been obtained from kaggle and can be found with the following link,  \n",
    "https://www.kaggle.com/datasets/mykhailokachan/overwatch-2-statistics,  \n",
    "it was created by the user Mykhailo Kachan"
   ]
  },
  {
   "cell_type": "code",
   "execution_count": 4,
   "metadata": {},
   "outputs": [],
   "source": [
    "import pandas as pd\n",
    "import numpy as np\n",
    "import seaborn as sns\n",
    "import matplotlib.pyplot as plt\n",
    "import os"
   ]
  },
  {
   "cell_type": "code",
   "execution_count": 5,
   "metadata": {},
   "outputs": [],
   "source": [
    "season_2 = pd.read_csv('data/ow2_season_02_FINAL_heroes_stats__2023-03-12.csv')"
   ]
  },
  {
   "cell_type": "code",
   "execution_count": 6,
   "metadata": {},
   "outputs": [
    {
     "data": {
      "text/html": [
       "<div>\n",
       "<style scoped>\n",
       "    .dataframe tbody tr th:only-of-type {\n",
       "        vertical-align: middle;\n",
       "    }\n",
       "\n",
       "    .dataframe tbody tr th {\n",
       "        vertical-align: top;\n",
       "    }\n",
       "\n",
       "    .dataframe thead th {\n",
       "        text-align: right;\n",
       "    }\n",
       "</style>\n",
       "<table border=\"1\" class=\"dataframe\">\n",
       "  <thead>\n",
       "    <tr style=\"text-align: right;\">\n",
       "      <th></th>\n",
       "      <th>Hero</th>\n",
       "      <th>Skill Tier</th>\n",
       "      <th>KDA Ratio</th>\n",
       "      <th>Pick Rate, %</th>\n",
       "      <th>Win Rate, %</th>\n",
       "      <th>Eliminations / 10min</th>\n",
       "      <th>Objective Kills / 10min</th>\n",
       "      <th>Objective Time / 10min</th>\n",
       "      <th>Damage / 10min</th>\n",
       "      <th>Healing / 10min</th>\n",
       "      <th>...</th>\n",
       "      <th>Jagged Blade Accuracy, %</th>\n",
       "      <th>Carnage Kills / 10min</th>\n",
       "      <th>Wound Uptime, %</th>\n",
       "      <th>Rampage Kills / 10min</th>\n",
       "      <th>Focusing Beam Accuracy, %</th>\n",
       "      <th>Focusing Beam Kills / 10min</th>\n",
       "      <th>Sticky Bomb Accuracy, %</th>\n",
       "      <th>Sticky Bomb Kills / 10min</th>\n",
       "      <th>Duplicate Kills / 10min</th>\n",
       "      <th>Role</th>\n",
       "    </tr>\n",
       "  </thead>\n",
       "  <tbody>\n",
       "    <tr>\n",
       "      <th>0</th>\n",
       "      <td>Ana</td>\n",
       "      <td>All</td>\n",
       "      <td>4.47</td>\n",
       "      <td>10.13</td>\n",
       "      <td>50.44</td>\n",
       "      <td>9.68</td>\n",
       "      <td>4.24</td>\n",
       "      <td>64</td>\n",
       "      <td>2714</td>\n",
       "      <td>8459.0</td>\n",
       "      <td>...</td>\n",
       "      <td>NaN</td>\n",
       "      <td>NaN</td>\n",
       "      <td>NaN</td>\n",
       "      <td>NaN</td>\n",
       "      <td>NaN</td>\n",
       "      <td>NaN</td>\n",
       "      <td>NaN</td>\n",
       "      <td>NaN</td>\n",
       "      <td>NaN</td>\n",
       "      <td>Support</td>\n",
       "    </tr>\n",
       "    <tr>\n",
       "      <th>1</th>\n",
       "      <td>Ana</td>\n",
       "      <td>Bronze</td>\n",
       "      <td>4.15</td>\n",
       "      <td>5.82</td>\n",
       "      <td>45.17</td>\n",
       "      <td>8.98</td>\n",
       "      <td>4.09</td>\n",
       "      <td>61</td>\n",
       "      <td>2622</td>\n",
       "      <td>7867.0</td>\n",
       "      <td>...</td>\n",
       "      <td>NaN</td>\n",
       "      <td>NaN</td>\n",
       "      <td>NaN</td>\n",
       "      <td>NaN</td>\n",
       "      <td>NaN</td>\n",
       "      <td>NaN</td>\n",
       "      <td>NaN</td>\n",
       "      <td>NaN</td>\n",
       "      <td>NaN</td>\n",
       "      <td>Support</td>\n",
       "    </tr>\n",
       "    <tr>\n",
       "      <th>2</th>\n",
       "      <td>Ana</td>\n",
       "      <td>Silver</td>\n",
       "      <td>4.32</td>\n",
       "      <td>7.60</td>\n",
       "      <td>48.71</td>\n",
       "      <td>9.34</td>\n",
       "      <td>4.18</td>\n",
       "      <td>63</td>\n",
       "      <td>2633</td>\n",
       "      <td>8125.0</td>\n",
       "      <td>...</td>\n",
       "      <td>NaN</td>\n",
       "      <td>NaN</td>\n",
       "      <td>NaN</td>\n",
       "      <td>NaN</td>\n",
       "      <td>NaN</td>\n",
       "      <td>NaN</td>\n",
       "      <td>NaN</td>\n",
       "      <td>NaN</td>\n",
       "      <td>NaN</td>\n",
       "      <td>Support</td>\n",
       "    </tr>\n",
       "    <tr>\n",
       "      <th>3</th>\n",
       "      <td>Ana</td>\n",
       "      <td>Gold</td>\n",
       "      <td>4.58</td>\n",
       "      <td>10.84</td>\n",
       "      <td>49.92</td>\n",
       "      <td>9.74</td>\n",
       "      <td>4.32</td>\n",
       "      <td>63</td>\n",
       "      <td>2713</td>\n",
       "      <td>8512.0</td>\n",
       "      <td>...</td>\n",
       "      <td>NaN</td>\n",
       "      <td>NaN</td>\n",
       "      <td>NaN</td>\n",
       "      <td>NaN</td>\n",
       "      <td>NaN</td>\n",
       "      <td>NaN</td>\n",
       "      <td>NaN</td>\n",
       "      <td>NaN</td>\n",
       "      <td>NaN</td>\n",
       "      <td>Support</td>\n",
       "    </tr>\n",
       "    <tr>\n",
       "      <th>4</th>\n",
       "      <td>Ana</td>\n",
       "      <td>Platinum</td>\n",
       "      <td>4.67</td>\n",
       "      <td>13.50</td>\n",
       "      <td>50.59</td>\n",
       "      <td>9.87</td>\n",
       "      <td>4.24</td>\n",
       "      <td>62</td>\n",
       "      <td>2782</td>\n",
       "      <td>8667.0</td>\n",
       "      <td>...</td>\n",
       "      <td>NaN</td>\n",
       "      <td>NaN</td>\n",
       "      <td>NaN</td>\n",
       "      <td>NaN</td>\n",
       "      <td>NaN</td>\n",
       "      <td>NaN</td>\n",
       "      <td>NaN</td>\n",
       "      <td>NaN</td>\n",
       "      <td>NaN</td>\n",
       "      <td>Support</td>\n",
       "    </tr>\n",
       "  </tbody>\n",
       "</table>\n",
       "<p>5 rows × 135 columns</p>\n",
       "</div>"
      ],
      "text/plain": [
       "  Hero Skill Tier  KDA Ratio  Pick Rate, %  Win Rate, %  Eliminations / 10min  \\\n",
       "0  Ana        All       4.47         10.13        50.44                  9.68   \n",
       "1  Ana     Bronze       4.15          5.82        45.17                  8.98   \n",
       "2  Ana     Silver       4.32          7.60        48.71                  9.34   \n",
       "3  Ana       Gold       4.58         10.84        49.92                  9.74   \n",
       "4  Ana   Platinum       4.67         13.50        50.59                  9.87   \n",
       "\n",
       "   Objective Kills / 10min  Objective Time / 10min  Damage / 10min  \\\n",
       "0                     4.24                      64            2714   \n",
       "1                     4.09                      61            2622   \n",
       "2                     4.18                      63            2633   \n",
       "3                     4.32                      63            2713   \n",
       "4                     4.24                      62            2782   \n",
       "\n",
       "   Healing / 10min  ...  Jagged Blade Accuracy, %  Carnage Kills / 10min  \\\n",
       "0           8459.0  ...                       NaN                    NaN   \n",
       "1           7867.0  ...                       NaN                    NaN   \n",
       "2           8125.0  ...                       NaN                    NaN   \n",
       "3           8512.0  ...                       NaN                    NaN   \n",
       "4           8667.0  ...                       NaN                    NaN   \n",
       "\n",
       "   Wound Uptime, %  Rampage Kills / 10min  Focusing Beam Accuracy, %  \\\n",
       "0              NaN                    NaN                        NaN   \n",
       "1              NaN                    NaN                        NaN   \n",
       "2              NaN                    NaN                        NaN   \n",
       "3              NaN                    NaN                        NaN   \n",
       "4              NaN                    NaN                        NaN   \n",
       "\n",
       "   Focusing Beam Kills / 10min  Sticky Bomb Accuracy, %  \\\n",
       "0                          NaN                      NaN   \n",
       "1                          NaN                      NaN   \n",
       "2                          NaN                      NaN   \n",
       "3                          NaN                      NaN   \n",
       "4                          NaN                      NaN   \n",
       "\n",
       "   Sticky Bomb Kills / 10min  Duplicate Kills / 10min     Role  \n",
       "0                        NaN                      NaN  Support  \n",
       "1                        NaN                      NaN  Support  \n",
       "2                        NaN                      NaN  Support  \n",
       "3                        NaN                      NaN  Support  \n",
       "4                        NaN                      NaN  Support  \n",
       "\n",
       "[5 rows x 135 columns]"
      ]
     },
     "execution_count": 6,
     "metadata": {},
     "output_type": "execute_result"
    }
   ],
   "source": [
    "season_2.head()"
   ]
  },
  {
   "cell_type": "code",
   "execution_count": 7,
   "metadata": {},
   "outputs": [
    {
     "data": {
      "text/plain": [
       "0"
      ]
     },
     "execution_count": 7,
     "metadata": {},
     "output_type": "execute_result"
    }
   ],
   "source": [
    "season_2.duplicated().sum()"
   ]
  },
  {
   "cell_type": "code",
   "execution_count": 8,
   "metadata": {},
   "outputs": [
    {
     "data": {
      "text/plain": [
       "Hero                           False\n",
       "Skill Tier                     False\n",
       "KDA Ratio                      False\n",
       "Pick Rate, %                   False\n",
       "Win Rate, %                    False\n",
       "                               ...  \n",
       "Focusing Beam Kills / 10min     True\n",
       "Sticky Bomb Accuracy, %         True\n",
       "Sticky Bomb Kills / 10min       True\n",
       "Duplicate Kills / 10min         True\n",
       "Role                           False\n",
       "Length: 135, dtype: bool"
      ]
     },
     "execution_count": 8,
     "metadata": {},
     "output_type": "execute_result"
    }
   ],
   "source": [
    "season_2.isnull().any()"
   ]
  },
  {
   "attachments": {},
   "cell_type": "markdown",
   "metadata": {},
   "source": [
    "The null values look to be in the hero specific stat columns like Sticky Bomb Accuracy which only  \n",
    "applies to the hero Echo, so overall there is no empty entries outside of those columns which are hero specific"
   ]
  },
  {
   "cell_type": "code",
   "execution_count": 9,
   "metadata": {},
   "outputs": [
    {
     "data": {
      "text/plain": [
       "Hero                            object\n",
       "Skill Tier                      object\n",
       "KDA Ratio                      float64\n",
       "Pick Rate, %                   float64\n",
       "Win Rate, %                    float64\n",
       "                                ...   \n",
       "Focusing Beam Kills / 10min    float64\n",
       "Sticky Bomb Accuracy, %        float64\n",
       "Sticky Bomb Kills / 10min      float64\n",
       "Duplicate Kills / 10min        float64\n",
       "Role                            object\n",
       "Length: 135, dtype: object"
      ]
     },
     "execution_count": 9,
     "metadata": {},
     "output_type": "execute_result"
    }
   ],
   "source": [
    "season_2.dtypes"
   ]
  },
  {
   "cell_type": "code",
   "execution_count": 10,
   "metadata": {},
   "outputs": [
    {
     "data": {
      "text/plain": [
       "(288, 135)"
      ]
     },
     "execution_count": 10,
     "metadata": {},
     "output_type": "execute_result"
    }
   ],
   "source": [
    "season_2.shape"
   ]
  },
  {
   "attachments": {},
   "cell_type": "markdown",
   "metadata": {},
   "source": [
    "Given that for season 2 there had been 36 heroes in the roster, and a total of 8 ranks considered   \n",
    "consisting of bronze, silver, gold, platinum, diamond, masters, grandmasters and all which is an  \n",
    "added value we are looking at in this dataset, we'd expect that there'd be 288 rows.   "
   ]
  },
  {
   "attachments": {},
   "cell_type": "markdown",
   "metadata": {},
   "source": [
    "The data has already come cleaned, for the sake of our analysis we will be  \n",
    "omiting hero specific statistics from our dataset and strictly looking at  \n",
    "hero pick-rate and win-rate across ratings"
   ]
  },
  {
   "cell_type": "code",
   "execution_count": 11,
   "metadata": {},
   "outputs": [
    {
     "data": {
      "text/html": [
       "<div>\n",
       "<style scoped>\n",
       "    .dataframe tbody tr th:only-of-type {\n",
       "        vertical-align: middle;\n",
       "    }\n",
       "\n",
       "    .dataframe tbody tr th {\n",
       "        vertical-align: top;\n",
       "    }\n",
       "\n",
       "    .dataframe thead th {\n",
       "        text-align: right;\n",
       "    }\n",
       "</style>\n",
       "<table border=\"1\" class=\"dataframe\">\n",
       "  <thead>\n",
       "    <tr style=\"text-align: right;\">\n",
       "      <th></th>\n",
       "      <th>Hero</th>\n",
       "      <th>Skill Tier</th>\n",
       "      <th>Pick Rate, %</th>\n",
       "      <th>Win Rate, %</th>\n",
       "      <th>Role</th>\n",
       "    </tr>\n",
       "  </thead>\n",
       "  <tbody>\n",
       "    <tr>\n",
       "      <th>0</th>\n",
       "      <td>Ana</td>\n",
       "      <td>All</td>\n",
       "      <td>10.13</td>\n",
       "      <td>50.44</td>\n",
       "      <td>Support</td>\n",
       "    </tr>\n",
       "    <tr>\n",
       "      <th>1</th>\n",
       "      <td>Ana</td>\n",
       "      <td>Bronze</td>\n",
       "      <td>5.82</td>\n",
       "      <td>45.17</td>\n",
       "      <td>Support</td>\n",
       "    </tr>\n",
       "    <tr>\n",
       "      <th>2</th>\n",
       "      <td>Ana</td>\n",
       "      <td>Silver</td>\n",
       "      <td>7.60</td>\n",
       "      <td>48.71</td>\n",
       "      <td>Support</td>\n",
       "    </tr>\n",
       "    <tr>\n",
       "      <th>3</th>\n",
       "      <td>Ana</td>\n",
       "      <td>Gold</td>\n",
       "      <td>10.84</td>\n",
       "      <td>49.92</td>\n",
       "      <td>Support</td>\n",
       "    </tr>\n",
       "    <tr>\n",
       "      <th>4</th>\n",
       "      <td>Ana</td>\n",
       "      <td>Platinum</td>\n",
       "      <td>13.50</td>\n",
       "      <td>50.59</td>\n",
       "      <td>Support</td>\n",
       "    </tr>\n",
       "  </tbody>\n",
       "</table>\n",
       "</div>"
      ],
      "text/plain": [
       "  Hero Skill Tier  Pick Rate, %  Win Rate, %     Role\n",
       "0  Ana        All         10.13        50.44  Support\n",
       "1  Ana     Bronze          5.82        45.17  Support\n",
       "2  Ana     Silver          7.60        48.71  Support\n",
       "3  Ana       Gold         10.84        49.92  Support\n",
       "4  Ana   Platinum         13.50        50.59  Support"
      ]
     },
     "execution_count": 11,
     "metadata": {},
     "output_type": "execute_result"
    }
   ],
   "source": [
    "season_2_df = season_2[['Hero','Skill Tier','Pick Rate, %', 'Win Rate, %','Role']].copy()\n",
    "season_2_df.head()"
   ]
  },
  {
   "attachments": {},
   "cell_type": "markdown",
   "metadata": {},
   "source": [
    "Let's split our season 1 dataset into each of the three roles, Tank, DPS, and Support"
   ]
  },
  {
   "attachments": {},
   "cell_type": "markdown",
   "metadata": {},
   "source": [
    "For the sake of our analysis we'll be omitting the any rows containing the value  \n",
    "All for rank"
   ]
  },
  {
   "cell_type": "code",
   "execution_count": 12,
   "metadata": {},
   "outputs": [],
   "source": [
    "tanks_s2_df = season_2_df[season_2_df['Role'] == 'Tank'].copy().drop(columns=['Role'],axis=1)\n",
    "supports_s2_df = season_2_df[season_2_df['Role'] == 'Support'].copy().drop(columns=['Role'],axis=1)\n",
    "dps_s2_df = season_2_df[season_2_df['Role'] == 'Damage'].copy().drop(columns=['Role'],axis=1)\n",
    "\n",
    "\n",
    "tanks_s2_df = tanks_s2_df[~(tanks_s2_df['Skill Tier'] == 'All')]\n",
    "supports_s2_df = supports_s2_df[~(supports_s2_df['Skill Tier'] == 'All')]\n",
    "dps_s2_df = dps_s2_df[~(dps_s2_df['Skill Tier'] == 'All')]"
   ]
  },
  {
   "cell_type": "code",
   "execution_count": 13,
   "metadata": {},
   "outputs": [
    {
     "data": {
      "text/html": [
       "<div>\n",
       "<style scoped>\n",
       "    .dataframe tbody tr th:only-of-type {\n",
       "        vertical-align: middle;\n",
       "    }\n",
       "\n",
       "    .dataframe tbody tr th {\n",
       "        vertical-align: top;\n",
       "    }\n",
       "\n",
       "    .dataframe thead th {\n",
       "        text-align: right;\n",
       "    }\n",
       "</style>\n",
       "<table border=\"1\" class=\"dataframe\">\n",
       "  <thead>\n",
       "    <tr style=\"text-align: right;\">\n",
       "      <th></th>\n",
       "      <th>Hero</th>\n",
       "      <th>Skill Tier</th>\n",
       "      <th>Pick Rate, %</th>\n",
       "      <th>Win Rate, %</th>\n",
       "    </tr>\n",
       "  </thead>\n",
       "  <tbody>\n",
       "    <tr>\n",
       "      <th>49</th>\n",
       "      <td>Reinhardt</td>\n",
       "      <td>Bronze</td>\n",
       "      <td>2.10</td>\n",
       "      <td>46.07</td>\n",
       "    </tr>\n",
       "    <tr>\n",
       "      <th>50</th>\n",
       "      <td>Reinhardt</td>\n",
       "      <td>Silver</td>\n",
       "      <td>1.95</td>\n",
       "      <td>48.55</td>\n",
       "    </tr>\n",
       "    <tr>\n",
       "      <th>51</th>\n",
       "      <td>Reinhardt</td>\n",
       "      <td>Gold</td>\n",
       "      <td>2.76</td>\n",
       "      <td>51.02</td>\n",
       "    </tr>\n",
       "    <tr>\n",
       "      <th>52</th>\n",
       "      <td>Reinhardt</td>\n",
       "      <td>Platinum</td>\n",
       "      <td>3.02</td>\n",
       "      <td>50.99</td>\n",
       "    </tr>\n",
       "    <tr>\n",
       "      <th>53</th>\n",
       "      <td>Reinhardt</td>\n",
       "      <td>Diamond</td>\n",
       "      <td>3.12</td>\n",
       "      <td>51.99</td>\n",
       "    </tr>\n",
       "  </tbody>\n",
       "</table>\n",
       "</div>"
      ],
      "text/plain": [
       "         Hero Skill Tier  Pick Rate, %  Win Rate, %\n",
       "49  Reinhardt     Bronze          2.10        46.07\n",
       "50  Reinhardt     Silver          1.95        48.55\n",
       "51  Reinhardt       Gold          2.76        51.02\n",
       "52  Reinhardt   Platinum          3.02        50.99\n",
       "53  Reinhardt    Diamond          3.12        51.99"
      ]
     },
     "execution_count": 13,
     "metadata": {},
     "output_type": "execute_result"
    }
   ],
   "source": [
    "tanks_s2_df.head()"
   ]
  },
  {
   "cell_type": "code",
   "execution_count": 14,
   "metadata": {},
   "outputs": [
    {
     "data": {
      "text/html": [
       "<div>\n",
       "<style scoped>\n",
       "    .dataframe tbody tr th:only-of-type {\n",
       "        vertical-align: middle;\n",
       "    }\n",
       "\n",
       "    .dataframe tbody tr th {\n",
       "        vertical-align: top;\n",
       "    }\n",
       "\n",
       "    .dataframe thead th {\n",
       "        text-align: right;\n",
       "    }\n",
       "</style>\n",
       "<table border=\"1\" class=\"dataframe\">\n",
       "  <thead>\n",
       "    <tr style=\"text-align: right;\">\n",
       "      <th></th>\n",
       "      <th>Hero</th>\n",
       "      <th>Skill Tier</th>\n",
       "      <th>Pick Rate, %</th>\n",
       "      <th>Win Rate, %</th>\n",
       "    </tr>\n",
       "  </thead>\n",
       "  <tbody>\n",
       "    <tr>\n",
       "      <th>1</th>\n",
       "      <td>Ana</td>\n",
       "      <td>Bronze</td>\n",
       "      <td>5.82</td>\n",
       "      <td>45.17</td>\n",
       "    </tr>\n",
       "    <tr>\n",
       "      <th>2</th>\n",
       "      <td>Ana</td>\n",
       "      <td>Silver</td>\n",
       "      <td>7.60</td>\n",
       "      <td>48.71</td>\n",
       "    </tr>\n",
       "    <tr>\n",
       "      <th>3</th>\n",
       "      <td>Ana</td>\n",
       "      <td>Gold</td>\n",
       "      <td>10.84</td>\n",
       "      <td>49.92</td>\n",
       "    </tr>\n",
       "    <tr>\n",
       "      <th>4</th>\n",
       "      <td>Ana</td>\n",
       "      <td>Platinum</td>\n",
       "      <td>13.50</td>\n",
       "      <td>50.59</td>\n",
       "    </tr>\n",
       "    <tr>\n",
       "      <th>5</th>\n",
       "      <td>Ana</td>\n",
       "      <td>Diamond</td>\n",
       "      <td>12.91</td>\n",
       "      <td>50.56</td>\n",
       "    </tr>\n",
       "  </tbody>\n",
       "</table>\n",
       "</div>"
      ],
      "text/plain": [
       "  Hero Skill Tier  Pick Rate, %  Win Rate, %\n",
       "1  Ana     Bronze          5.82        45.17\n",
       "2  Ana     Silver          7.60        48.71\n",
       "3  Ana       Gold         10.84        49.92\n",
       "4  Ana   Platinum         13.50        50.59\n",
       "5  Ana    Diamond         12.91        50.56"
      ]
     },
     "execution_count": 14,
     "metadata": {},
     "output_type": "execute_result"
    }
   ],
   "source": [
    "supports_s2_df.head()"
   ]
  },
  {
   "cell_type": "code",
   "execution_count": 15,
   "metadata": {},
   "outputs": [
    {
     "data": {
      "text/html": [
       "<div>\n",
       "<style scoped>\n",
       "    .dataframe tbody tr th:only-of-type {\n",
       "        vertical-align: middle;\n",
       "    }\n",
       "\n",
       "    .dataframe tbody tr th {\n",
       "        vertical-align: top;\n",
       "    }\n",
       "\n",
       "    .dataframe thead th {\n",
       "        text-align: right;\n",
       "    }\n",
       "</style>\n",
       "<table border=\"1\" class=\"dataframe\">\n",
       "  <thead>\n",
       "    <tr style=\"text-align: right;\">\n",
       "      <th></th>\n",
       "      <th>Hero</th>\n",
       "      <th>Skill Tier</th>\n",
       "      <th>Pick Rate, %</th>\n",
       "      <th>Win Rate, %</th>\n",
       "    </tr>\n",
       "  </thead>\n",
       "  <tbody>\n",
       "    <tr>\n",
       "      <th>25</th>\n",
       "      <td>Genji</td>\n",
       "      <td>Bronze</td>\n",
       "      <td>1.66</td>\n",
       "      <td>45.74</td>\n",
       "    </tr>\n",
       "    <tr>\n",
       "      <th>26</th>\n",
       "      <td>Genji</td>\n",
       "      <td>Silver</td>\n",
       "      <td>1.48</td>\n",
       "      <td>45.34</td>\n",
       "    </tr>\n",
       "    <tr>\n",
       "      <th>27</th>\n",
       "      <td>Genji</td>\n",
       "      <td>Gold</td>\n",
       "      <td>2.84</td>\n",
       "      <td>47.71</td>\n",
       "    </tr>\n",
       "    <tr>\n",
       "      <th>28</th>\n",
       "      <td>Genji</td>\n",
       "      <td>Platinum</td>\n",
       "      <td>4.63</td>\n",
       "      <td>51.76</td>\n",
       "    </tr>\n",
       "    <tr>\n",
       "      <th>29</th>\n",
       "      <td>Genji</td>\n",
       "      <td>Diamond</td>\n",
       "      <td>4.16</td>\n",
       "      <td>50.40</td>\n",
       "    </tr>\n",
       "  </tbody>\n",
       "</table>\n",
       "</div>"
      ],
      "text/plain": [
       "     Hero Skill Tier  Pick Rate, %  Win Rate, %\n",
       "25  Genji     Bronze          1.66        45.74\n",
       "26  Genji     Silver          1.48        45.34\n",
       "27  Genji       Gold          2.84        47.71\n",
       "28  Genji   Platinum          4.63        51.76\n",
       "29  Genji    Diamond          4.16        50.40"
      ]
     },
     "execution_count": 15,
     "metadata": {},
     "output_type": "execute_result"
    }
   ],
   "source": [
    "dps_s2_df.head()"
   ]
  },
  {
   "attachments": {},
   "cell_type": "markdown",
   "metadata": {},
   "source": [
    "Let's begin by analyzing the tanks, we'll take a look at how pickrate is \n",
    "distributed accross ranks for each tank"
   ]
  },
  {
   "cell_type": "code",
   "execution_count": 16,
   "metadata": {},
   "outputs": [
    {
     "data": {
      "image/png": "[encoded data removed]",
      "text/plain": [
       "<Figure size 2000x700 with 1 Axes>"
      ]
     },
     "metadata": {},
     "output_type": "display_data"
    }
   ],
   "source": [
    "plt.figure(figsize=(20,7))\n",
    "sns.barplot(data=tanks_s2_df,\n",
    "            x='Hero',\n",
    "            y='Pick Rate, %',\n",
    "            hue = 'Skill Tier')\n",
    "plt.show()"
   ]
  },
  {
   "attachments": {},
   "cell_type": "markdown",
   "metadata": {},
   "source": [
    "We see that the most popular hero throughout all 7 skill tiers is Orisa, with her  \n",
    "pick-rate being significantly greater than that of all the other tanks in each of the  \n",
    "corresponding tiers, and Roadhog being the second most picked tank accross each tier,  \n",
    "being closely tied with Ramattra in the Platinum skill tier"
   ]
  },
  {
   "attachments": {},
   "cell_type": "markdown",
   "metadata": {},
   "source": [
    "Given that her pickrate is consistenstly the higest amongst all 7 skill tiers, we'd expect that the value  \n",
    "the hero provides for her team to be greater than that of all the other tanks, and the effort required to  \n",
    "create that value to be comparitively low.\n",
    "\n",
    "Orisa's kit is composed of 3 abilities, Fortify which provides a 40% damage reduction affect and makes her immune  \n",
    "to headshots, which would usually result in twice the damage being taken, Energy Javelin which stuns the enemy it impales for .2 seconds,  \n",
    "if the enemy makes impact with a wall at the time of being impaled an additional .3 seconds is added to the stun effct, and  \n",
    "Javelin Spin which negates damage from projectile, hitscan, and melee attacks while increasing her movement speed by 50%, and  \n",
    "displacing enemies who she comes in contact with. The cooldown timers for each ability is 12, 6, and 7 seconds respectively, meaning that  \n",
    "if a player learns to rotate her cooldowns they can always have atleast 1 ability off cooldown in each teamfight,  \n",
    "Orisa's ultimate Terra Surge applies a slow effect within a 9 meter radius and scales in damage from 60-500 dmg, the ultimate  \n",
    "also provides Orisa with Fortify for its duration. Her primary fire is a projectile that relies on a resource meter,  \n",
    "if held for too long the player will have to wait for 2.5 seconds, it has a damage dropoff range from 15-25 meters.  \n",
    "\n",
    "From looking at Orisa's kit we can deduce the potential key reasons as to why here pick rate is significantly greater than  \n",
    "each of the other tanks across all skill tiers. We'd expect that her survivablility is the key reason why she has a high pick-rate  \n",
    "in lower skill ratings, as players tend to have worse aim they will focus on the largest target, which is the tank,  \n",
    "meaning that they spend their time trying to eliminate Orisa from the fight, but given her Fortify and Javelin Spin and large base  \n",
    "health and armour pool, it is not likely for her to die.  \n",
    "\n",
    "In higher skill ratings her survivability will definitely assist, but as players learn to rotate her cooldowns better  \n",
    "the low cooldown timers on each of her abilities and her CC abilites that allow her to deny engages are most likely  \n",
    "the key reasons as to why she is picked more, her survivability is more likely to be used as a resource to take more space  \n",
    "on a map, causing enemies to focus her more and allowing the rest of her team angles to engage on the enemy.  \n",
    "\n",
    "Given her consistently high pick-rate over various skill tiers, we may be inclined to conclude that the overall  \n",
    "effort required to provide value with Orisa is comparitively low, as is the case with Roadhog to a lesser degree, who  \n",
    "is also a hero that relies heavily on his CC abilitiy and survivability given his health regeneration/damage reduction ability.    \n",
    "\n",
    "In a healthy competitive environment we'd expect that a heroes value and effort would be positively correlated, as such  \n",
    "players in lower skill ratings would pick heroes that require less effort and inexchange produce less value  \n",
    "simply because they possess less mechanical skill and gamesense, and as the skill ratings increase the heroes that demand  \n",
    "more of those skills would rise in pick-rate, in addition to this we'd expect that a healthy competitive environment  \n",
    "would allow for a variety of heroes to be viable, which would be refelcted in their pick-rates. \n",
    "  \n",
    "We see that with how the pick-rate is distributed in season 2 for tanks that there was clearly a  \n",
    "major imbalance in power between tanks, given that one has a consistent pick-rate regardless  \n",
    "of individual player skill.  "
   ]
  },
  {
   "attachments": {},
   "cell_type": "markdown",
   "metadata": {},
   "source": [
    "Let's move on to seeing the winrate for each tank across the ranks"
   ]
  },
  {
   "cell_type": "code",
   "execution_count": 18,
   "metadata": {},
   "outputs": [
    {
     "data": {
      "image/png": "[encoded data removed]",
      "text/plain": [
       "<Figure size 2000x700 with 1 Axes>"
      ]
     },
     "metadata": {},
     "output_type": "display_data"
    }
   ],
   "source": [
    "plt.figure(figsize=(20,7))\n",
    "ax = sns.barplot(data=tanks_s2_df,\n",
    "            x='Hero',\n",
    "            y='Win Rate, %',\n",
    "            hue = 'Skill Tier')\n",
    "ax.legend_.remove()\n",
    "plt.show()"
   ]
  },
  {
   "attachments": {},
   "cell_type": "markdown",
   "metadata": {},
   "source": [
    "The win-rates are more or less equivalent, with the lesser picked heroes having a higher  \n",
    "win-rate across the ratings. One explanation for this is that given that the pick-rate is  \n",
    "much lower for these heroes, we don't have a sufficient amount of data to come to a conclusion  \n",
    "on the overall win-rate across each skill tier, since outliers may be skewing the overall range."
   ]
  },
  {
   "cell_type": "code",
   "execution_count": 19,
   "metadata": {},
   "outputs": [
    {
     "data": {
      "image/png": "[encoded data removed]",
      "text/plain": [
       "<Figure size 2000x700 with 1 Axes>"
      ]
     },
     "metadata": {},
     "output_type": "display_data"
    }
   ],
   "source": [
    "plt.figure(figsize=(20,7))\n",
    "sns.boxplot(data=tanks_s2_df,\n",
    "            x='Hero',\n",
    "            y='Win Rate, %')\n",
    "plt.show()"
   ]
  },
  {
   "cell_type": "code",
   "execution_count": 20,
   "metadata": {},
   "outputs": [
    {
     "data": {
      "text/html": [
       "<div>\n",
       "<style scoped>\n",
       "    .dataframe tbody tr th:only-of-type {\n",
       "        vertical-align: middle;\n",
       "    }\n",
       "\n",
       "    .dataframe tbody tr th {\n",
       "        vertical-align: top;\n",
       "    }\n",
       "\n",
       "    .dataframe thead th {\n",
       "        text-align: right;\n",
       "    }\n",
       "</style>\n",
       "<table border=\"1\" class=\"dataframe\">\n",
       "  <thead>\n",
       "    <tr style=\"text-align: right;\">\n",
       "      <th></th>\n",
       "      <th>Reinhardt</th>\n",
       "      <th>D.Va</th>\n",
       "      <th>Roadhog</th>\n",
       "      <th>Orisa</th>\n",
       "      <th>Zarya</th>\n",
       "      <th>Winston</th>\n",
       "      <th>Sigma</th>\n",
       "      <th>Doomfist</th>\n",
       "      <th>Ramattra</th>\n",
       "      <th>Wrecking Ball</th>\n",
       "      <th>Junker Queen</th>\n",
       "    </tr>\n",
       "  </thead>\n",
       "  <tbody>\n",
       "    <tr>\n",
       "      <th>count</th>\n",
       "      <td>7.000000</td>\n",
       "      <td>7.000000</td>\n",
       "      <td>7.000000</td>\n",
       "      <td>7.000000</td>\n",
       "      <td>7.000000</td>\n",
       "      <td>7.000000</td>\n",
       "      <td>7.000000</td>\n",
       "      <td>7.000000</td>\n",
       "      <td>7.000000</td>\n",
       "      <td>7.000000</td>\n",
       "      <td>7.000000</td>\n",
       "    </tr>\n",
       "    <tr>\n",
       "      <th>mean</th>\n",
       "      <td>49.495714</td>\n",
       "      <td>46.227143</td>\n",
       "      <td>46.221429</td>\n",
       "      <td>47.132857</td>\n",
       "      <td>40.222857</td>\n",
       "      <td>42.475714</td>\n",
       "      <td>45.857143</td>\n",
       "      <td>48.488571</td>\n",
       "      <td>49.845714</td>\n",
       "      <td>46.454286</td>\n",
       "      <td>46.110000</td>\n",
       "    </tr>\n",
       "    <tr>\n",
       "      <th>std</th>\n",
       "      <td>2.094738</td>\n",
       "      <td>3.057966</td>\n",
       "      <td>1.711836</td>\n",
       "      <td>2.944649</td>\n",
       "      <td>2.639379</td>\n",
       "      <td>3.037279</td>\n",
       "      <td>3.664231</td>\n",
       "      <td>3.553240</td>\n",
       "      <td>3.667160</td>\n",
       "      <td>4.025911</td>\n",
       "      <td>3.437383</td>\n",
       "    </tr>\n",
       "    <tr>\n",
       "      <th>min</th>\n",
       "      <td>46.070000</td>\n",
       "      <td>40.220000</td>\n",
       "      <td>43.300000</td>\n",
       "      <td>42.470000</td>\n",
       "      <td>36.560000</td>\n",
       "      <td>39.060000</td>\n",
       "      <td>40.600000</td>\n",
       "      <td>43.310000</td>\n",
       "      <td>44.590000</td>\n",
       "      <td>40.770000</td>\n",
       "      <td>42.030000</td>\n",
       "    </tr>\n",
       "    <tr>\n",
       "      <th>25%</th>\n",
       "      <td>48.205000</td>\n",
       "      <td>45.195000</td>\n",
       "      <td>45.185000</td>\n",
       "      <td>45.185000</td>\n",
       "      <td>38.365000</td>\n",
       "      <td>40.065000</td>\n",
       "      <td>43.030000</td>\n",
       "      <td>46.505000</td>\n",
       "      <td>47.230000</td>\n",
       "      <td>43.335000</td>\n",
       "      <td>42.815000</td>\n",
       "    </tr>\n",
       "    <tr>\n",
       "      <th>50%</th>\n",
       "      <td>49.990000</td>\n",
       "      <td>47.300000</td>\n",
       "      <td>47.220000</td>\n",
       "      <td>48.870000</td>\n",
       "      <td>41.090000</td>\n",
       "      <td>43.080000</td>\n",
       "      <td>46.490000</td>\n",
       "      <td>48.560000</td>\n",
       "      <td>51.320000</td>\n",
       "      <td>48.140000</td>\n",
       "      <td>47.160000</td>\n",
       "    </tr>\n",
       "    <tr>\n",
       "      <th>75%</th>\n",
       "      <td>51.005000</td>\n",
       "      <td>48.400000</td>\n",
       "      <td>47.485000</td>\n",
       "      <td>49.325000</td>\n",
       "      <td>42.040000</td>\n",
       "      <td>43.630000</td>\n",
       "      <td>48.930000</td>\n",
       "      <td>50.235000</td>\n",
       "      <td>52.070000</td>\n",
       "      <td>49.310000</td>\n",
       "      <td>49.015000</td>\n",
       "    </tr>\n",
       "    <tr>\n",
       "      <th>max</th>\n",
       "      <td>51.990000</td>\n",
       "      <td>48.880000</td>\n",
       "      <td>47.690000</td>\n",
       "      <td>49.570000</td>\n",
       "      <td>43.100000</td>\n",
       "      <td>47.800000</td>\n",
       "      <td>49.990000</td>\n",
       "      <td>54.070000</td>\n",
       "      <td>54.410000</td>\n",
       "      <td>50.980000</td>\n",
       "      <td>49.920000</td>\n",
       "    </tr>\n",
       "  </tbody>\n",
       "</table>\n",
       "</div>"
      ],
      "text/plain": [
       "       Reinhardt       D.Va    Roadhog      Orisa      Zarya    Winston  \\\n",
       "count   7.000000   7.000000   7.000000   7.000000   7.000000   7.000000   \n",
       "mean   49.495714  46.227143  46.221429  47.132857  40.222857  42.475714   \n",
       "std     2.094738   3.057966   1.711836   2.944649   2.639379   3.037279   \n",
       "min    46.070000  40.220000  43.300000  42.470000  36.560000  39.060000   \n",
       "25%    48.205000  45.195000  45.185000  45.185000  38.365000  40.065000   \n",
       "50%    49.990000  47.300000  47.220000  48.870000  41.090000  43.080000   \n",
       "75%    51.005000  48.400000  47.485000  49.325000  42.040000  43.630000   \n",
       "max    51.990000  48.880000  47.690000  49.570000  43.100000  47.800000   \n",
       "\n",
       "           Sigma   Doomfist   Ramattra  Wrecking Ball  Junker Queen  \n",
       "count   7.000000   7.000000   7.000000       7.000000      7.000000  \n",
       "mean   45.857143  48.488571  49.845714      46.454286     46.110000  \n",
       "std     3.664231   3.553240   3.667160       4.025911      3.437383  \n",
       "min    40.600000  43.310000  44.590000      40.770000     42.030000  \n",
       "25%    43.030000  46.505000  47.230000      43.335000     42.815000  \n",
       "50%    46.490000  48.560000  51.320000      48.140000     47.160000  \n",
       "75%    48.930000  50.235000  52.070000      49.310000     49.015000  \n",
       "max    49.990000  54.070000  54.410000      50.980000     49.920000  "
      ]
     },
     "execution_count": 20,
     "metadata": {},
     "output_type": "execute_result"
    }
   ],
   "source": [
    "tank_stats_wr_df = pd.DataFrame()\n",
    "tank_stats_pr_df = pd.DataFrame()\n",
    "\n",
    "for hero in tanks_s2_df['Hero'].unique():\n",
    "    tank_stats_wr_df[hero] = tanks_s2_df[tanks_s2_df['Hero'] == hero]['Win Rate, %'].describe()\n",
    "    tank_stats_pr_df[hero] = tanks_s2_df[tanks_s2_df['Hero'] == hero]['Pick Rate, %'].describe()\n",
    "\n",
    "tank_stats_wr_df"
   ]
  },
  {
   "cell_type": "code",
   "execution_count": 21,
   "metadata": {},
   "outputs": [
    {
     "data": {
      "text/html": [
       "<div>\n",
       "<style scoped>\n",
       "    .dataframe tbody tr th:only-of-type {\n",
       "        vertical-align: middle;\n",
       "    }\n",
       "\n",
       "    .dataframe tbody tr th {\n",
       "        vertical-align: top;\n",
       "    }\n",
       "\n",
       "    .dataframe thead th {\n",
       "        text-align: right;\n",
       "    }\n",
       "</style>\n",
       "<table border=\"1\" class=\"dataframe\">\n",
       "  <thead>\n",
       "    <tr style=\"text-align: right;\">\n",
       "      <th></th>\n",
       "      <th>Reinhardt</th>\n",
       "      <th>D.Va</th>\n",
       "      <th>Roadhog</th>\n",
       "      <th>Orisa</th>\n",
       "      <th>Zarya</th>\n",
       "      <th>Winston</th>\n",
       "      <th>Sigma</th>\n",
       "      <th>Doomfist</th>\n",
       "      <th>Ramattra</th>\n",
       "      <th>Wrecking Ball</th>\n",
       "      <th>Junker Queen</th>\n",
       "    </tr>\n",
       "  </thead>\n",
       "  <tbody>\n",
       "    <tr>\n",
       "      <th>count</th>\n",
       "      <td>7.000000</td>\n",
       "      <td>7.000000</td>\n",
       "      <td>7.000000</td>\n",
       "      <td>7.000000</td>\n",
       "      <td>7.000000</td>\n",
       "      <td>7.000000</td>\n",
       "      <td>7.000000</td>\n",
       "      <td>7.000000</td>\n",
       "      <td>7.000000</td>\n",
       "      <td>7.000000</td>\n",
       "      <td>7.000000</td>\n",
       "    </tr>\n",
       "    <tr>\n",
       "      <th>mean</th>\n",
       "      <td>2.682857</td>\n",
       "      <td>2.514286</td>\n",
       "      <td>3.384286</td>\n",
       "      <td>5.301429</td>\n",
       "      <td>1.458571</td>\n",
       "      <td>1.434286</td>\n",
       "      <td>2.045714</td>\n",
       "      <td>1.087143</td>\n",
       "      <td>2.517143</td>\n",
       "      <td>0.865714</td>\n",
       "      <td>1.458571</td>\n",
       "    </tr>\n",
       "    <tr>\n",
       "      <th>std</th>\n",
       "      <td>0.471123</td>\n",
       "      <td>0.582605</td>\n",
       "      <td>1.043342</td>\n",
       "      <td>1.309624</td>\n",
       "      <td>0.281510</td>\n",
       "      <td>0.491930</td>\n",
       "      <td>0.344231</td>\n",
       "      <td>0.596230</td>\n",
       "      <td>0.664673</td>\n",
       "      <td>0.510518</td>\n",
       "      <td>0.475024</td>\n",
       "    </tr>\n",
       "    <tr>\n",
       "      <th>min</th>\n",
       "      <td>1.950000</td>\n",
       "      <td>1.850000</td>\n",
       "      <td>2.010000</td>\n",
       "      <td>3.390000</td>\n",
       "      <td>1.030000</td>\n",
       "      <td>0.890000</td>\n",
       "      <td>1.590000</td>\n",
       "      <td>0.460000</td>\n",
       "      <td>1.680000</td>\n",
       "      <td>0.260000</td>\n",
       "      <td>0.830000</td>\n",
       "    </tr>\n",
       "    <tr>\n",
       "      <th>25%</th>\n",
       "      <td>2.430000</td>\n",
       "      <td>2.015000</td>\n",
       "      <td>2.590000</td>\n",
       "      <td>4.525000</td>\n",
       "      <td>1.320000</td>\n",
       "      <td>1.015000</td>\n",
       "      <td>1.825000</td>\n",
       "      <td>0.690000</td>\n",
       "      <td>2.105000</td>\n",
       "      <td>0.490000</td>\n",
       "      <td>1.105000</td>\n",
       "    </tr>\n",
       "    <tr>\n",
       "      <th>50%</th>\n",
       "      <td>2.780000</td>\n",
       "      <td>2.410000</td>\n",
       "      <td>3.460000</td>\n",
       "      <td>4.960000</td>\n",
       "      <td>1.450000</td>\n",
       "      <td>1.390000</td>\n",
       "      <td>2.080000</td>\n",
       "      <td>0.850000</td>\n",
       "      <td>2.550000</td>\n",
       "      <td>0.830000</td>\n",
       "      <td>1.480000</td>\n",
       "    </tr>\n",
       "    <tr>\n",
       "      <th>75%</th>\n",
       "      <td>3.035000</td>\n",
       "      <td>3.020000</td>\n",
       "      <td>4.245000</td>\n",
       "      <td>6.440000</td>\n",
       "      <td>1.605000</td>\n",
       "      <td>1.800000</td>\n",
       "      <td>2.205000</td>\n",
       "      <td>1.370000</td>\n",
       "      <td>2.720000</td>\n",
       "      <td>1.195000</td>\n",
       "      <td>1.835000</td>\n",
       "    </tr>\n",
       "    <tr>\n",
       "      <th>max</th>\n",
       "      <td>3.120000</td>\n",
       "      <td>3.270000</td>\n",
       "      <td>4.550000</td>\n",
       "      <td>6.830000</td>\n",
       "      <td>1.880000</td>\n",
       "      <td>2.130000</td>\n",
       "      <td>2.590000</td>\n",
       "      <td>2.180000</td>\n",
       "      <td>3.740000</td>\n",
       "      <td>1.600000</td>\n",
       "      <td>2.020000</td>\n",
       "    </tr>\n",
       "  </tbody>\n",
       "</table>\n",
       "</div>"
      ],
      "text/plain": [
       "       Reinhardt      D.Va   Roadhog     Orisa     Zarya   Winston     Sigma  \\\n",
       "count   7.000000  7.000000  7.000000  7.000000  7.000000  7.000000  7.000000   \n",
       "mean    2.682857  2.514286  3.384286  5.301429  1.458571  1.434286  2.045714   \n",
       "std     0.471123  0.582605  1.043342  1.309624  0.281510  0.491930  0.344231   \n",
       "min     1.950000  1.850000  2.010000  3.390000  1.030000  0.890000  1.590000   \n",
       "25%     2.430000  2.015000  2.590000  4.525000  1.320000  1.015000  1.825000   \n",
       "50%     2.780000  2.410000  3.460000  4.960000  1.450000  1.390000  2.080000   \n",
       "75%     3.035000  3.020000  4.245000  6.440000  1.605000  1.800000  2.205000   \n",
       "max     3.120000  3.270000  4.550000  6.830000  1.880000  2.130000  2.590000   \n",
       "\n",
       "       Doomfist  Ramattra  Wrecking Ball  Junker Queen  \n",
       "count  7.000000  7.000000       7.000000      7.000000  \n",
       "mean   1.087143  2.517143       0.865714      1.458571  \n",
       "std    0.596230  0.664673       0.510518      0.475024  \n",
       "min    0.460000  1.680000       0.260000      0.830000  \n",
       "25%    0.690000  2.105000       0.490000      1.105000  \n",
       "50%    0.850000  2.550000       0.830000      1.480000  \n",
       "75%    1.370000  2.720000       1.195000      1.835000  \n",
       "max    2.180000  3.740000       1.600000      2.020000  "
      ]
     },
     "execution_count": 21,
     "metadata": {},
     "output_type": "execute_result"
    }
   ],
   "source": [
    "tank_stats_pr_df"
   ]
  },
  {
   "attachments": {},
   "cell_type": "markdown",
   "metadata": {},
   "source": [
    "We see that is is the case that the tanks with the lowest pick-rates (Doomfist, Winston, Wrecking Ball, Junker Queen)  \n",
    "tend to have the greatest range of win-rates, though this does not apply to Ramattra who is an outlier  \n",
    "when it comes to this trend."
   ]
  },
  {
   "attachments": {},
   "cell_type": "markdown",
   "metadata": {},
   "source": [
    "The conclusions we've come to with regards to tank balance through analyzing pick-rates  \n",
    "and win-rates for each tank are not complete, the data does not tell the entire story of the  \n",
    "state of a hero in the game, it gives us some idea but does not allow us to understand essential  \n",
    "ideas like individual interactions between heroes, counter-play to abilites, and counter-play  \n",
    "to hero ultimates.\n",
    "\n",
    "It's also important to understand that since Overwatch 2 is a team-based game that hero pick-rate  \n",
    "may point towards a general team composition being dominant over individual heroes being overpowered,  \n",
    "this point is important to remember throughout our analysis as to understand the balance of a hero we  \n",
    "need to take into account how they synergize with the rest of their team."
   ]
  },
  {
   "attachments": {},
   "cell_type": "markdown",
   "metadata": {},
   "source": [
    "Let's now move onto analyzing the support heroes, beginning with their pick-rates"
   ]
  },
  {
   "cell_type": "code",
   "execution_count": 22,
   "metadata": {},
   "outputs": [
    {
     "data": {
      "image/png": "[encoded data removed]",
      "text/plain": [
       "<Figure size 2000x700 with 1 Axes>"
      ]
     },
     "metadata": {},
     "output_type": "display_data"
    }
   ],
   "source": [
    "plt.figure(figsize=(20,7))\n",
    "sns.barplot(data=supports_s2_df,\n",
    "            x='Hero',\n",
    "            y='Pick Rate, %',\n",
    "            hue = 'Skill Tier')\n",
    "plt.show()"
   ]
  },
  {
   "attachments": {},
   "cell_type": "markdown",
   "metadata": {},
   "source": [
    "We see that Ana, Mercy, and Kiriko are all very popular picks throughout the ranks, with Moira having a consistent  \n",
    "pick-rate throughout the ranks, and having a significant proportion of the pick rate in ranks platinum and below.  \n",
    "\n",
    "In lower ratings we'd expect a little more randomness in the pick-rate, and as we see there is some of that present  \n",
    "seeing as Moira is being picked somewhat below Platinum, however given the distribution of the pick-rates for the top 3  \n",
    "support heroes in the lower ratings we can't really make any assumptions about the state of balance, it may reflect  \n",
    "that those 3 heroes are simply the most liked by the auidence, what we can see however is past Diamond the pick-rate  \n",
    "is definitely comprable for the 3, lets take a look at each hero individually.\n",
    "\n",
    "Mercy's kit provides utility for the team mainly through her damage amplification ability, as you climb in rank  \n",
    "Mercy players are expected to primarily use their utility to assist the DPS players in securing kills, her healing  \n",
    "is viewed as secondary. Although this is a powerful ability it is completely contingent upon the level of skill  \n",
    "of their teammates, making it difficult to control the matches on her own.\n",
    "\n",
    "Ana's is capable of outputting both a great amount of healing and damage, along with her kit containing a CC ability  \n",
    "and a nade that is capable of amplifying heals on teammates it comes in contact with, and denying heals on enemies for  \n",
    "a short duration. The caveat is that it is difficult to land her CC ability, meaning that she's susceptible to flanks  \n",
    "and is not very survivable if caught out of position. Overall she can have a strong effect on a match, but this is   \n",
    "contingent upon the individual players mechanics and gamesense, which may explain why we see her pick-rate rise   \n",
    "as the skill tier rises.\n",
    "\n",
    "Kiriko is capable of dealing out damage, but as is seen in high ranking matches she is primarily used for her utility  \n",
    "and ultimate. Kiriko is capable of cleansing debuffs and providing temporary immortality to players with her nade ability,  \n",
    "teleporting to teammates within 35 meters which also cleanes debuffs and provides temporary immortality for herself,  \n",
    "she provides a significant output of healing, and her ultimate increases movement speed, decreases cooldown timers, increases  \n",
    "fire rate, and decreases reload time for teammates within its casting range. We see that her kit is significantly more  \n",
    "powerful than the other 2, although it is also contigent upon player skill, we may be inclined to conclude  \n",
    "that she is in an overpowered state in season 2."
   ]
  },
  {
   "attachments": {},
   "cell_type": "markdown",
   "metadata": {},
   "source": [
    "Let's move onto analyzing the win-rates"
   ]
  },
  {
   "cell_type": "code",
   "execution_count": 23,
   "metadata": {},
   "outputs": [
    {
     "data": {
      "image/png": "[encoded data removed]",
      "text/plain": [
       "<Figure size 2000x700 with 1 Axes>"
      ]
     },
     "metadata": {},
     "output_type": "display_data"
    }
   ],
   "source": [
    "plt.figure(figsize=(20,7))\n",
    "ax = sns.barplot(data=supports_s2_df,\n",
    "            x='Hero',\n",
    "            y='Win Rate, %',\n",
    "            hue = 'Skill Tier')\n",
    "ax.legend_.remove()\n",
    "plt.show()"
   ]
  },
  {
   "attachments": {},
   "cell_type": "markdown",
   "metadata": {},
   "source": [
    "We'll go through the same process we did with the tanks, generating a boxplot and looking at the descriptive statistics"
   ]
  },
  {
   "cell_type": "code",
   "execution_count": 24,
   "metadata": {},
   "outputs": [
    {
     "data": {
      "image/png": "[encoded data removed]",
      "text/plain": [
       "<Figure size 2000x700 with 1 Axes>"
      ]
     },
     "metadata": {},
     "output_type": "display_data"
    }
   ],
   "source": [
    "plt.figure(figsize=(20,7))\n",
    "sns.boxplot(data=supports_s2_df,\n",
    "            x='Hero',\n",
    "            y='Win Rate, %')\n",
    "plt.show()"
   ]
  },
  {
   "cell_type": "code",
   "execution_count": 25,
   "metadata": {},
   "outputs": [
    {
     "data": {
      "text/html": [
       "<div>\n",
       "<style scoped>\n",
       "    .dataframe tbody tr th:only-of-type {\n",
       "        vertical-align: middle;\n",
       "    }\n",
       "\n",
       "    .dataframe tbody tr th {\n",
       "        vertical-align: top;\n",
       "    }\n",
       "\n",
       "    .dataframe thead th {\n",
       "        text-align: right;\n",
       "    }\n",
       "</style>\n",
       "<table border=\"1\" class=\"dataframe\">\n",
       "  <thead>\n",
       "    <tr style=\"text-align: right;\">\n",
       "      <th></th>\n",
       "      <th>Ana</th>\n",
       "      <th>Mercy</th>\n",
       "      <th>Kiriko</th>\n",
       "      <th>Moira</th>\n",
       "      <th>Lucio</th>\n",
       "      <th>Zenyatta</th>\n",
       "      <th>Baptiste</th>\n",
       "      <th>Brigitte</th>\n",
       "    </tr>\n",
       "  </thead>\n",
       "  <tbody>\n",
       "    <tr>\n",
       "      <th>count</th>\n",
       "      <td>7.000000</td>\n",
       "      <td>7.000000</td>\n",
       "      <td>7.000000</td>\n",
       "      <td>7.000000</td>\n",
       "      <td>7.000000</td>\n",
       "      <td>7.000000</td>\n",
       "      <td>7.00000</td>\n",
       "      <td>7.000000</td>\n",
       "    </tr>\n",
       "    <tr>\n",
       "      <th>mean</th>\n",
       "      <td>49.041429</td>\n",
       "      <td>46.940000</td>\n",
       "      <td>45.737143</td>\n",
       "      <td>45.084286</td>\n",
       "      <td>47.887143</td>\n",
       "      <td>48.521429</td>\n",
       "      <td>44.10000</td>\n",
       "      <td>45.420000</td>\n",
       "    </tr>\n",
       "    <tr>\n",
       "      <th>std</th>\n",
       "      <td>1.997293</td>\n",
       "      <td>3.212367</td>\n",
       "      <td>2.180846</td>\n",
       "      <td>2.037587</td>\n",
       "      <td>2.945430</td>\n",
       "      <td>4.117076</td>\n",
       "      <td>2.65995</td>\n",
       "      <td>3.308338</td>\n",
       "    </tr>\n",
       "    <tr>\n",
       "      <th>min</th>\n",
       "      <td>45.170000</td>\n",
       "      <td>41.960000</td>\n",
       "      <td>41.690000</td>\n",
       "      <td>42.820000</td>\n",
       "      <td>43.750000</td>\n",
       "      <td>40.700000</td>\n",
       "      <td>40.46000</td>\n",
       "      <td>40.230000</td>\n",
       "    </tr>\n",
       "    <tr>\n",
       "      <th>25%</th>\n",
       "      <td>48.295000</td>\n",
       "      <td>44.915000</td>\n",
       "      <td>44.700000</td>\n",
       "      <td>43.055000</td>\n",
       "      <td>45.975000</td>\n",
       "      <td>47.255000</td>\n",
       "      <td>42.16500</td>\n",
       "      <td>43.645000</td>\n",
       "    </tr>\n",
       "    <tr>\n",
       "      <th>50%</th>\n",
       "      <td>49.920000</td>\n",
       "      <td>48.620000</td>\n",
       "      <td>47.030000</td>\n",
       "      <td>46.020000</td>\n",
       "      <td>48.640000</td>\n",
       "      <td>49.360000</td>\n",
       "      <td>44.37000</td>\n",
       "      <td>45.130000</td>\n",
       "    </tr>\n",
       "    <tr>\n",
       "      <th>75%</th>\n",
       "      <td>50.510000</td>\n",
       "      <td>49.075000</td>\n",
       "      <td>47.265000</td>\n",
       "      <td>46.515000</td>\n",
       "      <td>50.010000</td>\n",
       "      <td>50.985000</td>\n",
       "      <td>45.86500</td>\n",
       "      <td>47.880000</td>\n",
       "    </tr>\n",
       "    <tr>\n",
       "      <th>max</th>\n",
       "      <td>50.590000</td>\n",
       "      <td>50.020000</td>\n",
       "      <td>47.510000</td>\n",
       "      <td>47.610000</td>\n",
       "      <td>50.850000</td>\n",
       "      <td>53.110000</td>\n",
       "      <td>47.81000</td>\n",
       "      <td>49.530000</td>\n",
       "    </tr>\n",
       "  </tbody>\n",
       "</table>\n",
       "</div>"
      ],
      "text/plain": [
       "             Ana      Mercy     Kiriko      Moira      Lucio   Zenyatta  \\\n",
       "count   7.000000   7.000000   7.000000   7.000000   7.000000   7.000000   \n",
       "mean   49.041429  46.940000  45.737143  45.084286  47.887143  48.521429   \n",
       "std     1.997293   3.212367   2.180846   2.037587   2.945430   4.117076   \n",
       "min    45.170000  41.960000  41.690000  42.820000  43.750000  40.700000   \n",
       "25%    48.295000  44.915000  44.700000  43.055000  45.975000  47.255000   \n",
       "50%    49.920000  48.620000  47.030000  46.020000  48.640000  49.360000   \n",
       "75%    50.510000  49.075000  47.265000  46.515000  50.010000  50.985000   \n",
       "max    50.590000  50.020000  47.510000  47.610000  50.850000  53.110000   \n",
       "\n",
       "       Baptiste   Brigitte  \n",
       "count   7.00000   7.000000  \n",
       "mean   44.10000  45.420000  \n",
       "std     2.65995   3.308338  \n",
       "min    40.46000  40.230000  \n",
       "25%    42.16500  43.645000  \n",
       "50%    44.37000  45.130000  \n",
       "75%    45.86500  47.880000  \n",
       "max    47.81000  49.530000  "
      ]
     },
     "execution_count": 25,
     "metadata": {},
     "output_type": "execute_result"
    }
   ],
   "source": [
    "supports_stats_wr_df = pd.DataFrame()\n",
    "supports_stats_pr_df = pd.DataFrame()\n",
    "\n",
    "for hero in supports_s2_df['Hero'].unique():\n",
    "    supports_stats_wr_df[hero] = supports_s2_df[supports_s2_df['Hero'] == hero]['Win Rate, %'].describe()\n",
    "    supports_stats_pr_df[hero] = supports_s2_df[supports_s2_df['Hero'] == hero]['Pick Rate, %'].describe()\n",
    "\n",
    "supports_stats_wr_df"
   ]
  },
  {
   "cell_type": "code",
   "execution_count": 26,
   "metadata": {},
   "outputs": [
    {
     "data": {
      "text/html": [
       "<div>\n",
       "<style scoped>\n",
       "    .dataframe tbody tr th:only-of-type {\n",
       "        vertical-align: middle;\n",
       "    }\n",
       "\n",
       "    .dataframe tbody tr th {\n",
       "        vertical-align: top;\n",
       "    }\n",
       "\n",
       "    .dataframe thead th {\n",
       "        text-align: right;\n",
       "    }\n",
       "</style>\n",
       "<table border=\"1\" class=\"dataframe\">\n",
       "  <thead>\n",
       "    <tr style=\"text-align: right;\">\n",
       "      <th></th>\n",
       "      <th>Ana</th>\n",
       "      <th>Mercy</th>\n",
       "      <th>Kiriko</th>\n",
       "      <th>Moira</th>\n",
       "      <th>Lucio</th>\n",
       "      <th>Zenyatta</th>\n",
       "      <th>Baptiste</th>\n",
       "      <th>Brigitte</th>\n",
       "    </tr>\n",
       "  </thead>\n",
       "  <tbody>\n",
       "    <tr>\n",
       "      <th>count</th>\n",
       "      <td>7.000000</td>\n",
       "      <td>7.000000</td>\n",
       "      <td>7.000000</td>\n",
       "      <td>7.000000</td>\n",
       "      <td>7.000000</td>\n",
       "      <td>7.000000</td>\n",
       "      <td>7.000000</td>\n",
       "      <td>7.000000</td>\n",
       "    </tr>\n",
       "    <tr>\n",
       "      <th>mean</th>\n",
       "      <td>10.258571</td>\n",
       "      <td>7.741429</td>\n",
       "      <td>8.611429</td>\n",
       "      <td>5.647143</td>\n",
       "      <td>3.705714</td>\n",
       "      <td>2.542857</td>\n",
       "      <td>2.495714</td>\n",
       "      <td>0.671429</td>\n",
       "    </tr>\n",
       "    <tr>\n",
       "      <th>std</th>\n",
       "      <td>2.820103</td>\n",
       "      <td>2.708323</td>\n",
       "      <td>2.477199</td>\n",
       "      <td>0.522485</td>\n",
       "      <td>0.931806</td>\n",
       "      <td>0.642436</td>\n",
       "      <td>0.453316</td>\n",
       "      <td>0.095469</td>\n",
       "    </tr>\n",
       "    <tr>\n",
       "      <th>min</th>\n",
       "      <td>5.820000</td>\n",
       "      <td>4.780000</td>\n",
       "      <td>5.120000</td>\n",
       "      <td>4.830000</td>\n",
       "      <td>2.450000</td>\n",
       "      <td>1.690000</td>\n",
       "      <td>1.930000</td>\n",
       "      <td>0.510000</td>\n",
       "    </tr>\n",
       "    <tr>\n",
       "      <th>25%</th>\n",
       "      <td>8.485000</td>\n",
       "      <td>5.980000</td>\n",
       "      <td>6.605000</td>\n",
       "      <td>5.500000</td>\n",
       "      <td>3.045000</td>\n",
       "      <td>2.175000</td>\n",
       "      <td>2.250000</td>\n",
       "      <td>0.625000</td>\n",
       "    </tr>\n",
       "    <tr>\n",
       "      <th>50%</th>\n",
       "      <td>10.840000</td>\n",
       "      <td>7.470000</td>\n",
       "      <td>9.420000</td>\n",
       "      <td>5.640000</td>\n",
       "      <td>3.590000</td>\n",
       "      <td>2.660000</td>\n",
       "      <td>2.580000</td>\n",
       "      <td>0.670000</td>\n",
       "    </tr>\n",
       "    <tr>\n",
       "      <th>75%</th>\n",
       "      <td>12.340000</td>\n",
       "      <td>8.745000</td>\n",
       "      <td>10.760000</td>\n",
       "      <td>5.735000</td>\n",
       "      <td>4.410000</td>\n",
       "      <td>2.795000</td>\n",
       "      <td>2.605000</td>\n",
       "      <td>0.740000</td>\n",
       "    </tr>\n",
       "    <tr>\n",
       "      <th>max</th>\n",
       "      <td>13.500000</td>\n",
       "      <td>12.490000</td>\n",
       "      <td>11.010000</td>\n",
       "      <td>6.590000</td>\n",
       "      <td>4.990000</td>\n",
       "      <td>3.510000</td>\n",
       "      <td>3.250000</td>\n",
       "      <td>0.790000</td>\n",
       "    </tr>\n",
       "  </tbody>\n",
       "</table>\n",
       "</div>"
      ],
      "text/plain": [
       "             Ana      Mercy     Kiriko     Moira     Lucio  Zenyatta  \\\n",
       "count   7.000000   7.000000   7.000000  7.000000  7.000000  7.000000   \n",
       "mean   10.258571   7.741429   8.611429  5.647143  3.705714  2.542857   \n",
       "std     2.820103   2.708323   2.477199  0.522485  0.931806  0.642436   \n",
       "min     5.820000   4.780000   5.120000  4.830000  2.450000  1.690000   \n",
       "25%     8.485000   5.980000   6.605000  5.500000  3.045000  2.175000   \n",
       "50%    10.840000   7.470000   9.420000  5.640000  3.590000  2.660000   \n",
       "75%    12.340000   8.745000  10.760000  5.735000  4.410000  2.795000   \n",
       "max    13.500000  12.490000  11.010000  6.590000  4.990000  3.510000   \n",
       "\n",
       "       Baptiste  Brigitte  \n",
       "count  7.000000  7.000000  \n",
       "mean   2.495714  0.671429  \n",
       "std    0.453316  0.095469  \n",
       "min    1.930000  0.510000  \n",
       "25%    2.250000  0.625000  \n",
       "50%    2.580000  0.670000  \n",
       "75%    2.605000  0.740000  \n",
       "max    3.250000  0.790000  "
      ]
     },
     "execution_count": 26,
     "metadata": {},
     "output_type": "execute_result"
    }
   ],
   "source": [
    "supports_stats_pr_df"
   ]
  },
  {
   "attachments": {},
   "cell_type": "markdown",
   "metadata": {},
   "source": [
    "For the supports it is difficult to draw any conclusions, we can infer based of the  \n",
    "pick-rates but as was discussed previously it is not sufficient in determing individual  \n",
    "hero balance, atmost we can state that the top 3 support hero choices fit  \n",
    "better into the overall meta composition in the game during season 2,  \n",
    "aside from Mercy, they all take a significant amount of mechanical skill  \n",
    "and gamesense to play so we may be inclined to conclude that they  \n",
    "are in somewhat of a balanced state, atmost they may be somewhat overtuned.\n",
    "\n",
    "For now we will move onto taking a look at the damage heroes,  \n",
    "since the game is team-based it may give us a better idea  \n",
    "as to what the state of the game balance is by looking at it holistically."
   ]
  },
  {
   "cell_type": "code",
   "execution_count": 27,
   "metadata": {},
   "outputs": [
    {
     "data": {
      "image/png": "[encoded data removed]",
      "text/plain": [
       "<Figure size 2000x700 with 1 Axes>"
      ]
     },
     "metadata": {},
     "output_type": "display_data"
    }
   ],
   "source": [
    "plt.figure(figsize=(20,7))\n",
    "sns.barplot(data=dps_s2_df,\n",
    "            x='Hero',\n",
    "            y='Pick Rate, %',\n",
    "            hue = 'Skill Tier')\n",
    "plt.show()"
   ]
  },
  {
   "attachments": {},
   "cell_type": "markdown",
   "metadata": {},
   "source": [
    "We can already see a major discrepency in hero picks amongst the ranks, it seems to be the case that Sojourn  \n",
    "is by far the most picked regardless of skill tier, after her the next top picks are Ashe and Soldier 76,  \n",
    "it seems to be the case that as skill tiers increase hitscan heroes become most dominant, this was to be  \n",
    "expected as Mercy pairs best with hitscan heroes, in particular damage boosting Sojourn can gaurantee kills  \n",
    "since she was capable of one-shotting a majority of the heroes in season 2 with damage boost.\n",
    "\n",
    "We see that throughout the skill tiers that Genji is a hero that has a non-negligible pick-rate,  \n",
    "but the general sentiment towards Genji during season 2 was that he was a weak hero due to receiving nerfs  \n",
    "in season 1, and the change of the DPS passive ability, which originally would grant increased movement speed,  \n",
    "fire-rate, and reload rate, but was changed to only increasing reload speed, mainly benefitting hitscan heroes.  \n",
    "Given that the concensus was that he was weak during this season his high pick-rate is most likely due to his  \n",
    "popularity amongst fans, similar to Mercy and Ana."
   ]
  },
  {
   "attachments": {},
   "cell_type": "markdown",
   "metadata": {},
   "source": [
    "Let's move on to analyzing the win-rates"
   ]
  },
  {
   "cell_type": "code",
   "execution_count": 28,
   "metadata": {},
   "outputs": [
    {
     "data": {
      "image/png": "[encoded data removed]",
      "text/plain": [
       "<Figure size 2000x700 with 1 Axes>"
      ]
     },
     "metadata": {},
     "output_type": "display_data"
    }
   ],
   "source": [
    "plt.figure(figsize=(20,7))\n",
    "ax = sns.barplot(data=dps_s2_df,\n",
    "            x='Hero',\n",
    "            y='Win Rate, %',\n",
    "            hue = 'Skill Tier')\n",
    "ax.legend_.remove()\n",
    "plt.show()"
   ]
  },
  {
   "cell_type": "code",
   "execution_count": null,
   "metadata": {},
   "outputs": [
    {
     "data": {
      "image/png": "[encoded data removed]",
      "text/plain": [
       "<Figure size 2000x1000 with 1 Axes>"
      ]
     },
     "metadata": {},
     "output_type": "display_data"
    }
   ],
   "source": [
    "plt.figure(figsize=(20,10))\n",
    "sns.boxplot(data=dps_s2_df,\n",
    "            x='Hero',\n",
    "            y='Win Rate, %')\n",
    "plt.show()"
   ]
  },
  {
   "attachments": {},
   "cell_type": "markdown",
   "metadata": {},
   "source": [
    "We see a similar trend across all 3 roles that we would expect given the pick-rates,  \n",
    "the heroes with the lowest pick-rates have the widest range in win-rate"
   ]
  },
  {
   "attachments": {},
   "cell_type": "markdown",
   "metadata": {},
   "source": [
    "We now move onto our conclusions about the balance state of season 2"
   ]
  },
  {
   "attachments": {},
   "cell_type": "markdown",
   "metadata": {},
   "source": [
    "#### Conclusion"
   ]
  },
  {
   "attachments": {},
   "cell_type": "markdown",
   "metadata": {},
   "source": [
    "#### Insights Gained\n",
    "##### Tanks  \n",
    "For the tanks here are the key take-aways  \n",
    "* There was a major imbalance in pick-rate across all ranks, the tanks primarily picked were Roadhog and Orisa\n",
    "* The top tanks have CC abilities apart of their kits, and have high survivability\n",
    "* Those least picked we're mobile tanks with low survivability, namely the tanks considered \"Dive\" tanks\n",
    "* The conclusion we draw from this is that tank was in an imbalanced state with a bias towards high survivability and CC dense kits  \n",
    "\n",
    "##### Supports  \n",
    "For the supports here are the key take-aways  \n",
    "* The pick-rate was consistent across all ranks with Mercy, Ana, and Kiriko being top picks across all ranks\n",
    "* Moira was the only other noteable support by pick-rate in skill tiers including and below Platinum\n",
    "* Each of the top 3 support picks have utility apart of their kits, with Mercy's being strongly dependent \n",
    "  on the rest of her team given her inability to make plays on her own\n",
    "* Ana and Kiriko being top picks somewhat conflicts with eachother given that Kiriko is capable of shutting down Ana's utility\n",
    "* Ana, though strong, was likely a top pick given her popularity amongst the fanbase\n",
    "* It's very likely the case that Kiriko was a top pick given her utility, which enables heroes like Roadhog by improvig his survivability against Ana\n",
    "\n",
    "##### DPS  \n",
    "For the DPS here are the key take-aways  \n",
    "* The pick-rate across all skill tiers was clearly biased towards hitscan heroes\n",
    "* Given that Mercy pairs well with hitscan heroes, enabling heroes like Sojourn to one-shot most heroes, it makes sense that hitscan was primarily picked\n",
    "* The least picked heroes were flex DPS heroes, in particular Mei and Sombra, both of which rely heavily on their utility as a means of making plays"
   ]
  },
  {
   "attachments": {},
   "cell_type": "markdown",
   "metadata": {},
   "source": [
    "The conclusions we draw from our key take-aways is that season 2 was in an unbalanced state,  \n",
    "with the meta being biased towards CC reliant and highly survivable tanks, Kiriko's cleanse ability,  \n",
    "and Mercy's damage boost elevating the power of hitscan heroes, primarily Sojourn  \n",
    "\n",
    "The heroes that had been the weakest throughout the season were those who were not  \n",
    "survivable, relied mostly on their movement abilities, had no CC or weak CC abilities in  \n",
    "comparison to the other heroes, and those that did not pair well with Mercy or Kiriko"
   ]
  }
 ],
 "metadata": {
  "kernelspec": {
   "display_name": "venv",
   "language": "python",
   "name": "python3"
  },
  "language_info": {
   "codemirror_mode": {
    "name": "ipython",
    "version": 3
   },
   "file_extension": ".py",
   "mimetype": "text/x-python",
   "name": "python",
   "nbconvert_exporter": "python",
   "pygments_lexer": "ipython3",
   "version": "3.10.10"
  },
  "orig_nbformat": 4
 },
 "nbformat": 4,
 "nbformat_minor": 2
}
